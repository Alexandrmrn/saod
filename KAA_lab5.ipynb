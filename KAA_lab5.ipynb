{
 "cells": [
  {
   "cell_type": "markdown",
   "metadata": {},
   "source": [
    "Лабораторная работы №5\n",
    "Выполнил студент группы БСТ2003 Каширский Александр Александрович"
   ]
  },
  {
   "cell_type": "markdown",
   "metadata": {},
   "source": [
    "Задание: Реализовать генерацию заданного типа фрактала с применением рекурсивных функций.\n",
    "\n",
    "Добавить возможность задания глубины фрактала.\n",
    "\n",
    "Оценить глубину рекурсии.\n",
    "\n",
    "Построить таблицу зависимости времени построения от глубины фрактала.\n",
    "\n",
    "Вариант 13: Кривая Коха"
   ]
  },
  {
   "cell_type": "code",
   "execution_count": null,
   "metadata": {},
   "outputs": [],
   "source": [
    "import turtle\n",
    "import time\n",
    "\n",
    "t = turtle.Turtle()\n",
    "t.speed(100)\n",
    "\n",
    "def koch(ln, n):\n",
    "    if n == 0:\n",
    "        t.fd(ln)\n",
    "    else:\n",
    "        koch(ln / 3, n - 1)\n",
    "        t.left(60)\n",
    "        koch(ln / 3, n - 1)\n",
    "        t.right(120)\n",
    "        koch(ln / 3, n - 1)\n",
    "        t.left(60)\n",
    "        koch(ln / 3, n - 1)\n",
    "\n",
    "print(\"Введите длину сегмента:\")\n",
    "ln = int(input())\n",
    "print(\"Введите глубину рекурсии:\")\n",
    "n = int(input())\n",
    "start = time.time()\n",
    "koch(ln, n)\n",
    "print(\"Время : \", (time.time() - start))\n",
    "\n",
    "turtle.done()"
   ]
  }
 ],
 "metadata": {
  "kernelspec": {
   "display_name": "Python 3.6.6 64-bit",
   "language": "python",
   "name": "python3"
  },
  "language_info": {
   "name": "python",
   "version": "3.6.6"
  },
  "orig_nbformat": 4,
  "vscode": {
   "interpreter": {
    "hash": "0ee0e99f07f9d20c27c9dab55e0955308a9f7f17c480640fad7f8c6b1f38ba7e"
   }
  }
 },
 "nbformat": 4,
 "nbformat_minor": 2
}
