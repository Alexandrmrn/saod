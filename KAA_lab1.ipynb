{
 "cells": [
  {
   "cell_type": "markdown",
   "metadata": {},
   "source": [
    "\n",
    "Лабораторная работа №1\n",
    "Выполнил студент группы БСТ2003 Каширский Александр Александрович"
   ]
  },
  {
   "cell_type": "markdown",
   "metadata": {},
   "source": [
    "Задание №1"
   ]
  },
  {
   "cell_type": "code",
   "execution_count": 1,
   "metadata": {},
   "outputs": [
    {
     "name": "stdout",
     "output_type": "stream",
     "text": [
      "Hello,World!\n"
     ]
    }
   ],
   "source": [
    "print(\"Hello,World!\")\n"
   ]
  },
  {
   "cell_type": "markdown",
   "metadata": {},
   "source": [
    "Задание №2"
   ]
  },
  {
   "cell_type": "code",
   "execution_count": null,
   "metadata": {},
   "outputs": [],
   "source": [
    "from random import randint\n",
    "import random\n",
    "import time\n",
    "\n",
    "m = input(\"Введите m: \")\n",
    "n = input(\"Введите n: \")\n",
    "\n",
    "if m == \"\" and n == \"\":\n",
    "    m = 50\n",
    "    n = 50\n",
    "else:\n",
    "    m = int(m)\n",
    "    n = int(n)\n",
    "\n",
    "min_limit = input(\"Введите min: \")\n",
    "max_limit = input(\"Введите max: \")\n",
    "\n",
    "if min_limit == \"\" and max_limit == \"\":\n",
    "    min_limit = -250\n",
    "    max_limit = 1013\n",
    "else:\n",
    "    min_limit = int(min_limit)\n",
    "    max_limit = int(max_limit)\n",
    "\n",
    "matrix = [[random.randint(min_limit, max_limit) for j in range(n)] for i in range(m)]\n",
    "print('Matrix:')\n",
    "for i in range(m):\n",
    "    print(matrix[i])\n"
   ]
  },
  {
   "cell_type": "markdown",
   "metadata": {},
   "source": [
    "Задание №3\n",
    "Выбор"
   ]
  },
  {
   "cell_type": "code",
   "execution_count": null,
   "metadata": {},
   "outputs": [],
   "source": [
    "def selection(array):\n",
    "    for numb in array:\n",
    "        for i in range(0, len(numb) - 1):\n",
    "            minimal = i\n",
    "            for j in range(i + 1, len(numb)):\n",
    "                if numb[j] < numb[minimal]:\n",
    "                    minimal = j\n",
    "            numb[i], numb[minimal] = numb[minimal], numb[i]\n",
    "    return array\n",
    "\n",
    "print('Sorting by selection:')\n",
    "print(selection(matrix))"
   ]
  },
  {
   "cell_type": "markdown",
   "metadata": {},
   "source": [
    "Вставка"
   ]
  },
  {
   "cell_type": "code",
   "execution_count": null,
   "metadata": {},
   "outputs": [],
   "source": [
    "def insert(array):\n",
    "    for numb in array:\n",
    "        for i in range(len(array)):\n",
    "            for j in range(len(array[i])):\n",
    "                numb = array[i][j]\n",
    "                index = j\n",
    "                while (numb < array[i][index - 1]) and (index > 0):\n",
    "                    array[i][index] = array[i][index - 1]\n",
    "                    index -= 1\n",
    "                    array[i][index] = numb\n",
    "    return array\n",
    "\n",
    "print('Sorting by insert:')\n",
    "print(insert(matrix))"
   ]
  },
  {
   "cell_type": "markdown",
   "metadata": {},
   "source": [
    "Обмен"
   ]
  },
  {
   "cell_type": "code",
   "execution_count": null,
   "metadata": {},
   "outputs": [],
   "source": [
    "def exchange(array):\n",
    "    for i in range(len(array)):\n",
    "        for j in range(len(array[i])):\n",
    "            for g in range(len(array[i]) - j - 1):\n",
    "                if array[i][g] > array[i][g + 1]:\n",
    "                    numb = array[i][g]\n",
    "                    array[i][g] = array[i][g + 1]\n",
    "                    array[i][g + 1] = numb\n",
    "    return array\n",
    "\n",
    "print('Sorting by exchange:')\n",
    "print(exchange(matrix))"
   ]
  },
  {
   "cell_type": "markdown",
   "metadata": {},
   "source": [
    "Шелла"
   ]
  },
  {
   "cell_type": "code",
   "execution_count": null,
   "metadata": {},
   "outputs": [],
   "source": [
    "def shell(array):\n",
    "    for i in range(len(array)):\n",
    "        l = len(array[i]) // 2\n",
    "\n",
    "        while l > 0:\n",
    "            for j in range(len(array[i])):\n",
    "                for g in range(int(j + l), len(array[i]), l):\n",
    "\n",
    "                    if array[i][j] > array[i][g]:\n",
    "                        numb = array[i][j]\n",
    "                        array[i][j] = array[i][g]\n",
    "                        array[i][g] = numb\n",
    "\n",
    "            l = l // 2\n",
    "    return array\n",
    "\n",
    "print('Sorting by shell:')\n",
    "print(shell(matrix))"
   ]
  },
  {
   "cell_type": "markdown",
   "metadata": {},
   "source": [
    "Турнирная"
   ]
  },
  {
   "cell_type": "code",
   "execution_count": null,
   "metadata": {},
   "outputs": [],
   "source": [
    "def TOURNAMENT(array):\n",
    "    tree = [None] * 2 * (len(array) + len(array) % 2)\n",
    "    index = len(tree) - len(array) - len(array) % 2\n",
    "\n",
    "    for i, v in enumerate(array):\n",
    "        tree[index + i] = (i, v)\n",
    "\n",
    "    for j in range(len(array)):\n",
    "        n = len(array)\n",
    "        index = len(tree) - len(array) - len(array) % 2\n",
    "        while index > -1:\n",
    "            n = (n + 1) // 2\n",
    "            for i in range(n):\n",
    "                i = max(index + i * 2, 1)\n",
    "                if tree[i] != None and tree[i + 1] != None:\n",
    "                    if tree[i][1] < tree[i + 1][1]:\n",
    "                        tree[i // 2] = tree[i]\n",
    "                    else:\n",
    "                        tree[i // 2] = tree[i + 1]\n",
    "                else:\n",
    "                    tree[i // 2] = tree[i] if tree[i] != None else tree[i + 1]\n",
    "            index -= n\n",
    "\n",
    "        index, x = tree[0]\n",
    "        array[j] = x\n",
    "        tree[len(tree) - len(array) - len(array) % 2 + index] = None\n",
    "\n",
    "\n",
    "def tournament(array):\n",
    "    for i in range(len(array)):\n",
    "        TOURNAMENT(array[i])\n",
    "    return array\n",
    "\n",
    "print('Sorting by tournament:')\n",
    "print(tournament(matrix))"
   ]
  },
  {
   "cell_type": "markdown",
   "metadata": {},
   "source": [
    "Быстрая"
   ]
  },
  {
   "cell_type": "code",
   "execution_count": null,
   "metadata": {},
   "outputs": [],
   "source": [
    "def QuickSort(array):\n",
    "    for i in range(len(array)):\n",
    "        quickSort(0, len(array[i]) - 1, array, i)\n",
    "    return array\n",
    "\n",
    "def quickSort(FIRST, LAST, array, row):\n",
    "    first = int(FIRST)\n",
    "    last = int(LAST)\n",
    "    centre = int((first + last) / 2)\n",
    "\n",
    "    while first < last:\n",
    "        while array[row][first] < array[row][centre]:\n",
    "            first += 1\n",
    "        while array[row][last] > array[row][centre]:\n",
    "            last -= 1\n",
    "        if first <= last:\n",
    "            array[row][first], array[row][last] = array[row][last], array[row][first]\n",
    "            first += 1\n",
    "            last -= 1\n",
    "\n",
    "    if FIRST < last:\n",
    "        quickSort(FIRST, last, array, row)\n",
    "    if first < LAST:\n",
    "        quickSort(first, LAST, array, row)\n",
    "\n",
    "print('Sorting by quick:')\n",
    "print(QuickSort(matrix))"
   ]
  },
  {
   "cell_type": "markdown",
   "metadata": {},
   "source": [
    "Пирамидальная"
   ]
  },
  {
   "cell_type": "code",
   "execution_count": null,
   "metadata": {},
   "outputs": [],
   "source": [
    "def HEAPIFY(array, n, i, row):\n",
    "    largest = i\n",
    "    l = 2 * i + 1\n",
    "    r = 2 * i + 2\n",
    "\n",
    "    if l < n and array[row][i] < array[row][l]:\n",
    "        largest = l\n",
    "    if r < n and array[row][largest] < array[row][r]:\n",
    "        largest = r\n",
    "\n",
    "    if largest != i:\n",
    "        array[row][i], array[row][largest] = array[row][largest], array[row][i]\n",
    "        HEAPIFY(array, n, largest, row)\n",
    "\n",
    "def heapify(array):\n",
    "    for row in range(len(array)):\n",
    "        n = len(array[0])\n",
    "        for i in range(n//2, -1, -1):\n",
    "            HEAPIFY(array, n, i, row)\n",
    "        for i in range(n-1, 0, -1):\n",
    "            array[row][i], array[row][0] = array[row][0], array[row][i]\n",
    "            HEAPIFY(array, i, 0, row)\n",
    "    return array\n",
    "\n",
    "print('Sorting by heapify:')\n",
    "print(heapify(matrix))"
   ]
  },
  {
   "cell_type": "code",
   "execution_count": null,
   "metadata": {},
   "outputs": [],
   "source": [
    "start = time.time()\n",
    "sel = selection(matrix)\n",
    "print(\"Time of selection: \", (time.time() - start))\n",
    "\n",
    "start = time.time()\n",
    "sel = insert(matrix)\n",
    "print(\"Time of insert: \", (time.time() - start))\n",
    "\n",
    "start = time.time()\n",
    "sel = exchange(matrix)\n",
    "print(\"Time of exchange: \", (time.time() - start))\n",
    "\n",
    "start = time.time()\n",
    "sel = shell(matrix)\n",
    "print(\"Time of shell: \", (time.time() - start))\n",
    "\n",
    "start = time.time()\n",
    "sel = tournament(matrix)\n",
    "print(\"Time of tournament: \", (time.time() - start))\n",
    "\n",
    "start = time.time()\n",
    "sel = QuickSort(matrix)\n",
    "print(\"Time of QuickSort: \", (time.time() - start))\n",
    "\n",
    "start = time.time()\n",
    "sel = heapify(matrix)\n",
    "print(\"Time of heapify: \", (time.time() - start))"
   ]
  }
 ],
 "metadata": {
  "kernelspec": {
   "display_name": "Python 3.6.6 64-bit",
   "language": "python",
   "name": "python3"
  },
  "language_info": {
   "codemirror_mode": {
    "name": "ipython",
    "version": 3
   },
   "file_extension": ".py",
   "mimetype": "text/x-python",
   "name": "python",
   "nbconvert_exporter": "python",
   "pygments_lexer": "ipython3",
   "version": "3.6.6"
  },
  "orig_nbformat": 4,
  "vscode": {
   "interpreter": {
    "hash": "0ee0e99f07f9d20c27c9dab55e0955308a9f7f17c480640fad7f8c6b1f38ba7e"
   }
  }
 },
 "nbformat": 4,
 "nbformat_minor": 2
}
