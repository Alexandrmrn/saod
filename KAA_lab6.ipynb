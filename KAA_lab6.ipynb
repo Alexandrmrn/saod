{
 "cells": [
  {
   "cell_type": "markdown",
   "metadata": {},
   "source": [
    "Лабораторная работы №6\n",
    "Выполнил студент группы БСТ2003 Каширский Александр Александрович"
   ]
  },
  {
   "cell_type": "markdown",
   "metadata": {},
   "source": [
    "Задание Реализовать алгоритм поиска кратчайшего расстояния между двумя вершинами ориентированного взвешенного графа в соответствии с вариантом.\n",
    "\n",
    "Предусмотреть задание графа в виде матрицы смежности/инцидентности, читаемой из файла, либо графически с помощью пользовательского интерфейса.\n",
    "\n",
    "Разработать графический интерфейс пользователя с визуализацией графа и отображением кратчайшего расстояния между задаваемыми пользователем вершинами.\n",
    "\n",
    "По результатам работы проанализировать временную сложность работы заданного алгоритма в зависимости от числа узлов и ребер графа. Данные представить в виде таблицы.\n",
    "\n",
    "Вариант 13: Алгоритм Флойда-Уоршелла"
   ]
  },
  {
   "cell_type": "markdown",
   "metadata": {},
   "source": [
    "main.py :\n"
   ]
  },
  {
   "cell_type": "code",
   "execution_count": null,
   "metadata": {},
   "outputs": [],
   "source": [
    "import time\n",
    "import networkx as nx\n",
    "import matplotlib.pyplot as plt\n",
    "import floyd as flwr\n",
    "import convert as conv\n",
    "\n",
    "with open('6.txt', 'r') as inputs:\n",
    "    global graph\n",
    "    graph = []\n",
    "\n",
    "    for line in inputs:\n",
    "        graph.append(line[:-1].split(', '))\n",
    "\n",
    "G = nx.DiGraph()\n",
    "G.add_weighted_edges_from(conv.convert(graph))\n",
    "\n",
    "pos = nx.planar_layout(G)\n",
    "nx.draw(G, with_labels='True', pos=pos)\n",
    "nx.draw_networkx_edge_labels(G, pos, edge_labels=nx.get_edge_attributes(G, 'weight'))\n",
    "\n",
    "start = time.time()\n",
    "way = flwr.flwr(graph, 4, 5)\n",
    "print(\"Время: \", (time.time() - start))\n",
    "\n",
    "print(way)\n",
    "way = [(way[i], way[i+1]) for i in range(len(way)-1)]\n",
    "nx.draw_networkx_edges(G, pos=pos, edgelist=way, edge_color='green')\n",
    "nx.draw_networkx_edge_labels(G, pos, edge_labels=nx.get_edge_attributes(G, 'weight'))\n",
    "\n",
    "plt.show()"
   ]
  },
  {
   "cell_type": "markdown",
   "metadata": {},
   "source": [
    "convert.py :\n",
    "\n"
   ]
  },
  {
   "cell_type": "code",
   "execution_count": null,
   "metadata": {},
   "outputs": [],
   "source": [
    "def convert(matrix):\n",
    "    result = [(i, j, int(matrix[i][j]))\n",
    "                   for j in range(len(matrix))\n",
    "                   for i in range(len(matrix))\n",
    "                   if matrix[i][j] != 'math.inf']\n",
    "\n",
    "    return result"
   ]
  },
  {
   "cell_type": "markdown",
   "metadata": {},
   "source": [
    "floyd.py :\n",
    "\n"
   ]
  },
  {
   "cell_type": "code",
   "execution_count": null,
   "metadata": {},
   "outputs": [],
   "source": [
    "import math\n",
    "\n",
    "def flwr(matrix, start, finish):\n",
    "    mtr = [[int(matrix[i][j]) if matrix[i][j] != 'math.inf' else math.inf\n",
    "          for j in range(len(matrix))] for i in range(len(matrix))]\n",
    "\n",
    "    def WAY(peak, start, finish):\n",
    "        way = [start]\n",
    "        while start != finish:\n",
    "            start = peak[start][finish]\n",
    "            way = [start] + way\n",
    "\n",
    "        return way\n",
    "\n",
    "    vol = len(mtr)\n",
    "    peak = [[v for v in range(vol)] for u in range(vol)]\n",
    "    for k in range(vol):\n",
    "        for i in range(vol):\n",
    "            for j in range(vol):\n",
    "                d = mtr[i][k] + mtr[k][j]\n",
    "                if mtr[i][j] > d:\n",
    "                    mtr[i][j] = d\n",
    "                    peak[i][j] = k\n",
    "\n",
    "    return WAY(peak, finish, start)"
   ]
  }
 ],
 "metadata": {
  "kernelspec": {
   "display_name": "Python 3.6.6 64-bit",
   "language": "python",
   "name": "python3"
  },
  "language_info": {
   "name": "python",
   "version": "3.6.6"
  },
  "orig_nbformat": 4,
  "vscode": {
   "interpreter": {
    "hash": "0ee0e99f07f9d20c27c9dab55e0955308a9f7f17c480640fad7f8c6b1f38ba7e"
   }
  }
 },
 "nbformat": 4,
 "nbformat_minor": 2
}
